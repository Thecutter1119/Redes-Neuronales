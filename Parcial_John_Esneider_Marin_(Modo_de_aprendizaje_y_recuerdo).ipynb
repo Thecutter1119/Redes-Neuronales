{
  "nbformat": 4,
  "nbformat_minor": 0,
  "metadata": {
    "colab": {
      "provenance": [],
      "gpuType": "T4",
      "include_colab_link": true
    },
    "kernelspec": {
      "name": "python3",
      "display_name": "Python 3"
    },
    "language_info": {
      "name": "python"
    },
    "accelerator": "GPU"
  },
  "cells": [
    {
      "cell_type": "markdown",
      "metadata": {
        "id": "view-in-github",
        "colab_type": "text"
      },
      "source": [
        "<a href=\"https://colab.research.google.com/github/Thecutter1119/Redes-Neuronales/blob/main/Parcial_John_Esneider_Marin_(Modo_de_aprendizaje_y_recuerdo).ipynb\" target=\"_parent\"><img src=\"https://colab.research.google.com/assets/colab-badge.svg\" alt=\"Open In Colab\"/></a>"
      ]
    },
    {
      "cell_type": "markdown",
      "source": [
        "**Ejercicio 1**"
      ],
      "metadata": {
        "id": "6beAT4OSYnqq"
      }
    },
    {
      "cell_type": "code",
      "source": [
        "import tensorflow as tf\n",
        "from tensorflow import keras\n",
        "\n",
        "# 1. Cargar los datos MNIST\n",
        "dataset = keras.datasets.mnist\n",
        "(x_train, y_train), (x_test, y_test) = dataset.load_data()\n",
        "\n",
        "# 2. Preprocesamiento de datos (Normalizar los valores de píxeles de 0-255 a 0-1)\n",
        "x_train, x_test = x_train / 255.0, x_test / 255.0\n",
        "\n",
        "# 3. Definir la estructura de la red neuronal\n",
        "model = keras.Sequential([\n",
        "    keras.layers.Flatten(input_shape=(28, 28)),  # Capa de entrada\n",
        "    keras.layers.Dense(128, activation='relu'),  # Capa oculta con 128 neuronas y activación ReLU\n",
        "    keras.layers.Dense(10, activation='softmax') # Capa de salida con 10 neuronas y activación softmax\n",
        "])\n",
        "\n",
        "# 4. Compilar el modelo\n",
        "model.compile(optimizer='adam',\n",
        "              loss='sparse_categorical_crossentropy',\n",
        "              metrics=['accuracy'])\n",
        "\n",
        "# 5. Entrenar el modelo (5 épocas)\n",
        "print(\"Modo de Aprendizaje: Entrenando la red neuronal...\")\n",
        "model.fit(x_train, y_train, epochs=5, validation_data=(x_test, y_test))\n",
        "\n",
        "# Evaluar la precisión en los datos de prueba\n",
        "test_loss, test_acc = model.evaluate(x_test, y_test)\n",
        "print(f'Precisión en el conjunto de prueba: {test_acc:.4f}')\n"
      ],
      "metadata": {
        "colab": {
          "base_uri": "https://localhost:8080/"
        },
        "id": "t9eaqBjcShMk",
        "outputId": "a9d2333a-73f8-4185-a4f5-884c18bf00d5"
      },
      "execution_count": 1,
      "outputs": [
        {
          "output_type": "stream",
          "name": "stdout",
          "text": [
            "Downloading data from https://storage.googleapis.com/tensorflow/tf-keras-datasets/mnist.npz\n",
            "\u001b[1m11490434/11490434\u001b[0m \u001b[32m━━━━━━━━━━━━━━━━━━━━\u001b[0m\u001b[37m\u001b[0m \u001b[1m0s\u001b[0m 0us/step\n"
          ]
        },
        {
          "output_type": "stream",
          "name": "stderr",
          "text": [
            "/usr/local/lib/python3.11/dist-packages/keras/src/layers/reshaping/flatten.py:37: UserWarning: Do not pass an `input_shape`/`input_dim` argument to a layer. When using Sequential models, prefer using an `Input(shape)` object as the first layer in the model instead.\n",
            "  super().__init__(**kwargs)\n"
          ]
        },
        {
          "output_type": "stream",
          "name": "stdout",
          "text": [
            "Modo de Aprendizaje: Entrenando la red neuronal...\n",
            "Epoch 1/5\n",
            "\u001b[1m1875/1875\u001b[0m \u001b[32m━━━━━━━━━━━━━━━━━━━━\u001b[0m\u001b[37m\u001b[0m \u001b[1m10s\u001b[0m 4ms/step - accuracy: 0.8742 - loss: 0.4426 - val_accuracy: 0.9580 - val_loss: 0.1426\n",
            "Epoch 2/5\n",
            "\u001b[1m1875/1875\u001b[0m \u001b[32m━━━━━━━━━━━━━━━━━━━━\u001b[0m\u001b[37m\u001b[0m \u001b[1m6s\u001b[0m 3ms/step - accuracy: 0.9614 - loss: 0.1310 - val_accuracy: 0.9690 - val_loss: 0.1031\n",
            "Epoch 3/5\n",
            "\u001b[1m1875/1875\u001b[0m \u001b[32m━━━━━━━━━━━━━━━━━━━━\u001b[0m\u001b[37m\u001b[0m \u001b[1m14s\u001b[0m 5ms/step - accuracy: 0.9748 - loss: 0.0829 - val_accuracy: 0.9707 - val_loss: 0.0906\n",
            "Epoch 4/5\n",
            "\u001b[1m1875/1875\u001b[0m \u001b[32m━━━━━━━━━━━━━━━━━━━━\u001b[0m\u001b[37m\u001b[0m \u001b[1m8s\u001b[0m 4ms/step - accuracy: 0.9824 - loss: 0.0577 - val_accuracy: 0.9732 - val_loss: 0.0809\n",
            "Epoch 5/5\n",
            "\u001b[1m1875/1875\u001b[0m \u001b[32m━━━━━━━━━━━━━━━━━━━━\u001b[0m\u001b[37m\u001b[0m \u001b[1m9s\u001b[0m 3ms/step - accuracy: 0.9872 - loss: 0.0430 - val_accuracy: 0.9771 - val_loss: 0.0762\n",
            "\u001b[1m313/313\u001b[0m \u001b[32m━━━━━━━━━━━━━━━━━━━━\u001b[0m\u001b[37m\u001b[0m \u001b[1m1s\u001b[0m 2ms/step - accuracy: 0.9746 - loss: 0.0846\n",
            "Precisión en el conjunto de prueba: 0.9771\n"
          ]
        }
      ]
    },
    {
      "cell_type": "markdown",
      "source": [
        "**Ejercicio 2**"
      ],
      "metadata": {
        "id": "aGazBdXUYq7u"
      }
    },
    {
      "cell_type": "code",
      "source": [
        "import tensorflow as tf\n",
        "from tensorflow import keras\n",
        "import numpy as np\n",
        "import matplotlib.pyplot as plt\n",
        "\n",
        "# 1. Cargar los datos MNIST\n",
        "dataset = keras.datasets.mnist\n",
        "(x_train, y_train), (x_test, y_test) = dataset.load_data()\n",
        "\n",
        "# 2. Preprocesamiento de datos (Normalizar los valores de píxeles de 0-255 a 0-1)\n",
        "x_train, x_test = x_train / 255.0, x_test / 255.0\n",
        "\n",
        "# 3. Definir la estructura de la red neuronal\n",
        "model = keras.Sequential([\n",
        "    keras.layers.Flatten(input_shape=(28, 28)),  # Capa de entrada\n",
        "    keras.layers.Dense(128, activation='relu'),  # Capa oculta con 128 neuronas y activación ReLU\n",
        "    keras.layers.Dense(10, activation='softmax') # Capa de salida con 10 neuronas y activación softmax\n",
        "])\n",
        "\n",
        "# 4. Compilar el modelo\n",
        "model.compile(optimizer='adam',\n",
        "              loss='sparse_categorical_crossentropy',\n",
        "              metrics=['accuracy'])\n",
        "\n",
        "# 5. Entrenar el modelo (5 épocas)\n",
        "print(\"Modo de Aprendizaje: Entrenando la red neuronal...\")\n",
        "model.fit(x_train, y_train, epochs=5, validation_data=(x_test, y_test))\n",
        "\n",
        "# Evaluar la precisión en los datos de prueba\n",
        "test_loss, test_acc = model.evaluate(x_test, y_test)\n",
        "print(f'Precisión en el conjunto de prueba: {test_acc:.4f}')\n",
        "\n",
        "# 1. Seleccionar una imagen de prueba\n",
        "index = np.random.randint(0, len(x_test))  # Seleccionar una imagen aleatoria\n",
        "image = x_test[index]\n",
        "label = y_test[index]\n",
        "\n",
        "# 2. Mostrar la imagen seleccionada\n",
        "plt.imshow(image, cmap='gray')\n",
        "plt.title(f'Etiqueta real: {label}')\n",
        "plt.axis('off')\n",
        "plt.show()\n",
        "\n",
        "# 3. Realizar la predicción\n",
        "image = np.expand_dims(image, axis=0)  # Agregar una dimensión para que coincida con la entrada del modelo\n",
        "predictions = model.predict(image)\n",
        "predicted_label = np.argmax(predictions)\n",
        "\n",
        "# Mostrar las probabilidades de cada clase\n",
        "print(\"Probabilidades de cada clase:\")\n",
        "for i, prob in enumerate(predictions[0]):\n",
        "    print(f'{i}: {prob:.4f}')\n",
        "\n",
        "print(f'Predicción del modelo: {predicted_label}')\n",
        "\n",
        "# 4. Comparar el resultado con la etiqueta real\n",
        "if predicted_label == label:\n",
        "    print(\"✅ El modelo acertó en su predicción!\")\n",
        "else:\n",
        "    print(\"❌ El modelo se equivocó.\")\n"
      ],
      "metadata": {
        "colab": {
          "base_uri": "https://localhost:8080/",
          "height": 916
        },
        "id": "9M6mGqYrV6-z",
        "outputId": "bd74a667-2003-4b7a-85f2-bf52706cd5c5"
      },
      "execution_count": 2,
      "outputs": [
        {
          "output_type": "stream",
          "name": "stdout",
          "text": [
            "Modo de Aprendizaje: Entrenando la red neuronal...\n",
            "Epoch 1/5\n",
            "\u001b[1m1875/1875\u001b[0m \u001b[32m━━━━━━━━━━━━━━━━━━━━\u001b[0m\u001b[37m\u001b[0m \u001b[1m9s\u001b[0m 4ms/step - accuracy: 0.8791 - loss: 0.4330 - val_accuracy: 0.9562 - val_loss: 0.1424\n",
            "Epoch 2/5\n",
            "\u001b[1m1875/1875\u001b[0m \u001b[32m━━━━━━━━━━━━━━━━━━━━\u001b[0m\u001b[37m\u001b[0m \u001b[1m5s\u001b[0m 3ms/step - accuracy: 0.9635 - loss: 0.1230 - val_accuracy: 0.9703 - val_loss: 0.0994\n",
            "Epoch 3/5\n",
            "\u001b[1m1875/1875\u001b[0m \u001b[32m━━━━━━━━━━━━━━━━━━━━\u001b[0m\u001b[37m\u001b[0m \u001b[1m6s\u001b[0m 3ms/step - accuracy: 0.9767 - loss: 0.0775 - val_accuracy: 0.9738 - val_loss: 0.0893\n",
            "Epoch 4/5\n",
            "\u001b[1m1875/1875\u001b[0m \u001b[32m━━━━━━━━━━━━━━━━━━━━\u001b[0m\u001b[37m\u001b[0m \u001b[1m5s\u001b[0m 3ms/step - accuracy: 0.9836 - loss: 0.0550 - val_accuracy: 0.9771 - val_loss: 0.0757\n",
            "Epoch 5/5\n",
            "\u001b[1m1875/1875\u001b[0m \u001b[32m━━━━━━━━━━━━━━━━━━━━\u001b[0m\u001b[37m\u001b[0m \u001b[1m6s\u001b[0m 3ms/step - accuracy: 0.9862 - loss: 0.0427 - val_accuracy: 0.9766 - val_loss: 0.0776\n",
            "\u001b[1m313/313\u001b[0m \u001b[32m━━━━━━━━━━━━━━━━━━━━\u001b[0m\u001b[37m\u001b[0m \u001b[1m1s\u001b[0m 2ms/step - accuracy: 0.9738 - loss: 0.0889\n",
            "Precisión en el conjunto de prueba: 0.9766\n"
          ]
        },
        {
          "output_type": "display_data",
          "data": {
            "text/plain": [
              "<Figure size 640x480 with 1 Axes>"
            ],
            "image/png": "[encoded data removed]"
          },
          "metadata": {}
        },
        {
          "output_type": "stream",
          "name": "stdout",
          "text": [
            "\u001b[1m1/1\u001b[0m \u001b[32m━━━━━━━━━━━━━━━━━━━━\u001b[0m\u001b[37m\u001b[0m \u001b[1m0s\u001b[0m 227ms/step\n",
            "Probabilidades de cada clase:\n",
            "0: 1.0000\n",
            "1: 0.0000\n",
            "2: 0.0000\n",
            "3: 0.0000\n",
            "4: 0.0000\n",
            "5: 0.0000\n",
            "6: 0.0000\n",
            "7: 0.0000\n",
            "8: 0.0000\n",
            "9: 0.0000\n",
            "Predicción del modelo: 0\n",
            "✅ El modelo acertó en su predicción!\n"
          ]
        }
      ]
    },
    {
      "cell_type": "markdown",
      "source": [
        "**EJercicio 3**"
      ],
      "metadata": {
        "id": "VjraGrPBY3qs"
      }
    },
    {
      "cell_type": "code",
      "source": [
        "import tensorflow as tf\n",
        "from tensorflow.keras import layers, models\n",
        "import matplotlib.pyplot as plt\n",
        "import numpy as np\n",
        "\n",
        "# Cargar y preparar los datos de MNIST\n",
        "(x_train, y_train), (x_test, y_test) = tf.keras.datasets.mnist.load_data()\n",
        "\n",
        "# Normalizar los datos (valores entre 0 y 1)\n",
        "x_train, x_test = x_train / 255.0, x_test / 255.0\n",
        "\n",
        "# Crear el modelo con SimpleRNN\n",
        "model = models.Sequential([\n",
        "    layers.Input(shape=(28, 28)),  # 28 pasos de tiempo (filas), 28 características (píxeles por fila)\n",
        "    layers.SimpleRNN(64, return_sequences=False),  # Capa SimpleRNN con 64 unidades\n",
        "    layers.Dense(10, activation='softmax')  # Capa de salida con 10 clases\n",
        "])\n",
        "\n",
        "# Compilar el modelo\n",
        "model.compile(optimizer='adam',\n",
        "              loss='sparse_categorical_crossentropy',\n",
        "              metrics=['accuracy'])\n",
        "\n",
        "# Entrenar el modelo\n",
        "print(\"Entrenando el modelo...\")\n",
        "model.fit(x_train, y_train, epochs=5, verbose=1)  # Se aumentaron las épocas a 5\n",
        "\n",
        "# Evaluar el modelo en el conjunto de prueba\n",
        "test_loss, test_acc = model.evaluate(x_test, y_test, verbose=0)\n",
        "print(f\"\\nPrecisión en el conjunto de prueba: {test_acc:.4f}\")\n",
        "\n",
        "# Elegir el dígito específico que quieres predecir\n",
        "digito_deseado = 1  # Cambia este número (0-9) para predecir el dígito que quieras\n",
        "\n",
        "# Buscar una imagen en x_test que sea el dígito deseado\n",
        "indice = np.where(y_test == digito_deseado)[0][0]  # Selecciona el primer índice con el dígito deseado\n",
        "\n",
        "# Seleccionar la imagen y su etiqueta real\n",
        "imagen_prueba = x_test[indice]\n",
        "etiqueta_real = y_test[indice]\n",
        "\n",
        "# Mostrar la imagen seleccionada\n",
        "plt.figure(figsize=(5, 5))\n",
        "plt.imshow(imagen_prueba, cmap='gray')\n",
        "plt.title(f'Imagen seleccionada - Etiqueta real: {etiqueta_real}')\n",
        "plt.axis('off')\n",
        "plt.show()\n",
        "\n",
        "# Realizar la predicción\n",
        "imagen_prueba_reshape = imagen_prueba.reshape(1, 28, 28)  # Asegurar batch_size=1\n",
        "prediccion = model.predict(imagen_prueba_reshape, verbose=0)\n",
        "digito_predicho = np.argmax(prediccion)\n",
        "\n",
        "# Mostrar la predicción y probabilidades de forma ordenada\n",
        "probabilidades = {i: prediccion[0][i] for i in range(10)}\n",
        "probabilidades_ordenadas = sorted(probabilidades.items(), key=lambda x: x[1], reverse=True)\n",
        "\n",
        "print(f\"\\nPredicción del modelo: {digito_predicho}\")\n",
        "print(\"Probabilidades ordenadas:\")\n",
        "for clase, prob in probabilidades_ordenadas:\n",
        "    print(f\"Clase {clase}: {prob:.4f}\")\n",
        "\n",
        "# Comparar el resultado con la etiqueta real\n",
        "if digito_predicho == etiqueta_real:\n",
        "    print(\"✅ El modelo acertó en su predicción.\")\n",
        "else:\n",
        "    print(\"❌ El modelo no acertó en su predicción.\")\n",
        "\n",
        "# Visualización final con predicción y etiqueta real\n",
        "plt.figure(figsize=(5, 5))\n",
        "plt.imshow(imagen_prueba, cmap='gray')\n",
        "plt.text(2, 2, f'Pred: {digito_predicho}', color='red', fontsize=12, weight='bold',\n",
        "         bbox=dict(facecolor='white', alpha=0.8))\n",
        "plt.text(2, 25, f'Real: {etiqueta_real}', color='blue', fontsize=12, weight='bold',\n",
        "         bbox=dict(facecolor='white', alpha=0.8))\n",
        "plt.axis('off')\n",
        "plt.show()\n"
      ],
      "metadata": {
        "colab": {
          "base_uri": "https://localhost:8080/",
          "height": 1000
        },
        "id": "uulkpHNWYk2S",
        "outputId": "d2439f91-1789-4ee2-c65e-5cb308dfa6a9"
      },
      "execution_count": 4,
      "outputs": [
        {
          "output_type": "stream",
          "name": "stdout",
          "text": [
            "Entrenando el modelo...\n",
            "Epoch 1/5\n",
            "\u001b[1m1875/1875\u001b[0m \u001b[32m━━━━━━━━━━━━━━━━━━━━\u001b[0m\u001b[37m\u001b[0m \u001b[1m10s\u001b[0m 4ms/step - accuracy: 0.7427 - loss: 0.8323\n",
            "Epoch 2/5\n",
            "\u001b[1m1875/1875\u001b[0m \u001b[32m━━━━━━━━━━━━━━━━━━━━\u001b[0m\u001b[37m\u001b[0m \u001b[1m7s\u001b[0m 4ms/step - accuracy: 0.9195 - loss: 0.2725\n",
            "Epoch 3/5\n",
            "\u001b[1m1875/1875\u001b[0m \u001b[32m━━━━━━━━━━━━━━━━━━━━\u001b[0m\u001b[37m\u001b[0m \u001b[1m10s\u001b[0m 4ms/step - accuracy: 0.9341 - loss: 0.2214\n",
            "Epoch 4/5\n",
            "\u001b[1m1875/1875\u001b[0m \u001b[32m━━━━━━━━━━━━━━━━━━━━\u001b[0m\u001b[37m\u001b[0m \u001b[1m7s\u001b[0m 4ms/step - accuracy: 0.9431 - loss: 0.1969\n",
            "Epoch 5/5\n",
            "\u001b[1m1875/1875\u001b[0m \u001b[32m━━━━━━━━━━━━━━━━━━━━\u001b[0m\u001b[37m\u001b[0m \u001b[1m7s\u001b[0m 4ms/step - accuracy: 0.9509 - loss: 0.1713\n",
            "\n",
            "Precisión en el conjunto de prueba: 0.9398\n"
          ]
        },
        {
          "output_type": "display_data",
          "data": {
            "text/plain": [
              "<Figure size 500x500 with 1 Axes>"
            ],
            "image/png": "[encoded data removed]"
          },
          "metadata": {}
        },
        {
          "output_type": "stream",
          "name": "stdout",
          "text": [
            "\n",
            "Predicción del modelo: 1\n",
            "Probabilidades ordenadas:\n",
            "Clase 1: 0.9984\n",
            "Clase 2: 0.0004\n",
            "Clase 4: 0.0003\n",
            "Clase 3: 0.0003\n",
            "Clase 9: 0.0002\n",
            "Clase 7: 0.0002\n",
            "Clase 6: 0.0001\n",
            "Clase 0: 0.0000\n",
            "Clase 5: 0.0000\n",
            "Clase 8: 0.0000\n",
            "✅ El modelo acertó en su predicción.\n"
          ]
        },
        {
          "output_type": "display_data",
          "data": {
            "text/plain": [
              "<Figure size 500x500 with 1 Axes>"
            ],
            "image/png": "[encoded data removed]"
          },
          "metadata": {}
        }
      ]
    }
  ]
}